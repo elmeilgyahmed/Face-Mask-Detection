{
 "cells": [
  {
   "cell_type": "markdown",
   "metadata": {},
   "source": [
    "# Computer Vision Project \n"
   ]
  },
  {
   "cell_type": "markdown",
   "metadata": {},
   "source": [
    "## Face Mask Detection\n",
    "#### By Ahmed El Melegy , Ahmed Eid "
   ]
  },
  {
   "cell_type": "markdown",
   "metadata": {},
   "source": [
    "##### First Pipeline training a CNN model for detection a mask or no mask "
   ]
  },
  {
   "cell_type": "code",
   "execution_count": 2,
   "metadata": {},
   "outputs": [],
   "source": [
    "import os\n",
    "path =\"face-mask/data\"\n",
    "data=[]\n",
    "classes=[]\n",
    "for cls in os.listdir(path):\n",
    "    path_=os.path.join(path,cls)\n",
    "    for i in  os.listdir(path_):\n",
    "        data.extend([os.path.join(path,cls,i)])\n",
    "        classes.extend([cls])"
   ]
  },
  {
   "cell_type": "code",
   "execution_count": 3,
   "metadata": {},
   "outputs": [],
   "source": [
    "import numpy as np \n",
    "import pandas as pd "
   ]
  },
  {
   "cell_type": "code",
   "execution_count": 4,
   "metadata": {},
   "outputs": [
    {
     "data": {
      "text/html": [
       "<div>\n",
       "<style scoped>\n",
       "    .dataframe tbody tr th:only-of-type {\n",
       "        vertical-align: middle;\n",
       "    }\n",
       "\n",
       "    .dataframe tbody tr th {\n",
       "        vertical-align: top;\n",
       "    }\n",
       "\n",
       "    .dataframe thead th {\n",
       "        text-align: right;\n",
       "    }\n",
       "</style>\n",
       "<table border=\"1\" class=\"dataframe\">\n",
       "  <thead>\n",
       "    <tr style=\"text-align: right;\">\n",
       "      <th></th>\n",
       "      <th>data</th>\n",
       "      <th>classes</th>\n",
       "    </tr>\n",
       "  </thead>\n",
       "  <tbody>\n",
       "    <tr>\n",
       "      <th>0</th>\n",
       "      <td>face-mask/data\\without_mask\\without_mask_1.jpg</td>\n",
       "      <td>without_mask</td>\n",
       "    </tr>\n",
       "    <tr>\n",
       "      <th>1</th>\n",
       "      <td>face-mask/data\\without_mask\\without_mask_10.jpg</td>\n",
       "      <td>without_mask</td>\n",
       "    </tr>\n",
       "    <tr>\n",
       "      <th>2</th>\n",
       "      <td>face-mask/data\\without_mask\\without_mask_100.jpg</td>\n",
       "      <td>without_mask</td>\n",
       "    </tr>\n",
       "    <tr>\n",
       "      <th>3</th>\n",
       "      <td>face-mask/data\\without_mask\\without_mask_1000.jpg</td>\n",
       "      <td>without_mask</td>\n",
       "    </tr>\n",
       "    <tr>\n",
       "      <th>4</th>\n",
       "      <td>face-mask/data\\without_mask\\without_mask_1001.jpg</td>\n",
       "      <td>without_mask</td>\n",
       "    </tr>\n",
       "    <tr>\n",
       "      <th>5</th>\n",
       "      <td>face-mask/data\\without_mask\\without_mask_1002.jpg</td>\n",
       "      <td>without_mask</td>\n",
       "    </tr>\n",
       "    <tr>\n",
       "      <th>6</th>\n",
       "      <td>face-mask/data\\without_mask\\without_mask_1003.jpg</td>\n",
       "      <td>without_mask</td>\n",
       "    </tr>\n",
       "    <tr>\n",
       "      <th>7</th>\n",
       "      <td>face-mask/data\\without_mask\\without_mask_1004.jpg</td>\n",
       "      <td>without_mask</td>\n",
       "    </tr>\n",
       "    <tr>\n",
       "      <th>8</th>\n",
       "      <td>face-mask/data\\without_mask\\without_mask_1005.jpg</td>\n",
       "      <td>without_mask</td>\n",
       "    </tr>\n",
       "    <tr>\n",
       "      <th>9</th>\n",
       "      <td>face-mask/data\\without_mask\\without_mask_1006.jpg</td>\n",
       "      <td>without_mask</td>\n",
       "    </tr>\n",
       "  </tbody>\n",
       "</table>\n",
       "</div>"
      ],
      "text/plain": [
       "                                                data       classes\n",
       "0     face-mask/data\\without_mask\\without_mask_1.jpg  without_mask\n",
       "1    face-mask/data\\without_mask\\without_mask_10.jpg  without_mask\n",
       "2   face-mask/data\\without_mask\\without_mask_100.jpg  without_mask\n",
       "3  face-mask/data\\without_mask\\without_mask_1000.jpg  without_mask\n",
       "4  face-mask/data\\without_mask\\without_mask_1001.jpg  without_mask\n",
       "5  face-mask/data\\without_mask\\without_mask_1002.jpg  without_mask\n",
       "6  face-mask/data\\without_mask\\without_mask_1003.jpg  without_mask\n",
       "7  face-mask/data\\without_mask\\without_mask_1004.jpg  without_mask\n",
       "8  face-mask/data\\without_mask\\without_mask_1005.jpg  without_mask\n",
       "9  face-mask/data\\without_mask\\without_mask_1006.jpg  without_mask"
      ]
     },
     "execution_count": 4,
     "metadata": {},
     "output_type": "execute_result"
    }
   ],
   "source": [
    "Data=pd.DataFrame({\"data\":data,\"classes\":classes})\n",
    "Data[:10]"
   ]
  },
  {
   "cell_type": "code",
   "execution_count": 14,
   "metadata": {},
   "outputs": [],
   "source": [
    "from keras.preprocessing.image import ImageDataGenerator\n",
    "\n",
    "from sklearn.model_selection import train_test_split\n",
    "\n",
    "train,test=train_test_split(Data,stratify=Data[\"classes\"],test_size=0.2)#stratify\n",
    "\n",
    "\n",
    "train_datagen = ImageDataGenerator(\n",
    "        rescale=1./255,\n",
    "        shear_range=0.2,\n",
    "        zoom_range=0.2,\n",
    "        horizontal_flip=True)\n",
    "\n",
    "test_datagen = ImageDataGenerator(rescale=1./255)"
   ]
  },
  {
   "cell_type": "code",
   "execution_count": 15,
   "metadata": {},
   "outputs": [
    {
     "name": "stdout",
     "output_type": "stream",
     "text": [
      "Found 6042 validated image filenames belonging to 2 classes.\n",
      "Found 1511 validated image filenames belonging to 2 classes.\n"
     ]
    }
   ],
   "source": [
    "train_ =train_datagen.flow_from_dataframe(train.copy(),x_col=\"data\",y_col=\"classes\",target_size=(150, 150), class_mode='binary',batch_size=16)\n",
    "test_ =test_datagen.flow_from_dataframe(test.copy(),x_col=\"data\",y_col=\"classes\",target_size=(150, 150), class_mode='binary',batch_size=16)\n"
   ]
  },
  {
   "cell_type": "code",
   "execution_count": 18,
   "metadata": {},
   "outputs": [],
   "source": [
    "import numpy as np\n",
    "import keras\n",
    "import keras.backend as k\n",
    "from keras.layers import Conv2D,MaxPooling2D,SpatialDropout2D,Flatten,Dropout,Dense\n",
    "from keras.models import Sequential,load_model\n",
    "from keras.preprocessing import image\n",
    "import cv2\n",
    "import datetime"
   ]
  },
  {
   "cell_type": "markdown",
   "metadata": {},
   "source": [
    "#### The CNN model architecture"
   ]
  },
  {
   "cell_type": "code",
   "execution_count": 20,
   "metadata": {},
   "outputs": [
    {
     "name": "stdout",
     "output_type": "stream",
     "text": [
      "Model: \"sequential_1\"\n",
      "_________________________________________________________________\n",
      "Layer (type)                 Output Shape              Param #   \n",
      "=================================================================\n",
      "conv2d_3 (Conv2D)            (None, 148, 148, 32)      896       \n",
      "_________________________________________________________________\n",
      "max_pooling2d_3 (MaxPooling2 (None, 74, 74, 32)        0         \n",
      "_________________________________________________________________\n",
      "conv2d_4 (Conv2D)            (None, 72, 72, 32)        9248      \n",
      "_________________________________________________________________\n",
      "max_pooling2d_4 (MaxPooling2 (None, 36, 36, 32)        0         \n",
      "_________________________________________________________________\n",
      "conv2d_5 (Conv2D)            (None, 34, 34, 32)        9248      \n",
      "_________________________________________________________________\n",
      "max_pooling2d_5 (MaxPooling2 (None, 17, 17, 32)        0         \n",
      "_________________________________________________________________\n",
      "flatten_1 (Flatten)          (None, 9248)              0         \n",
      "_________________________________________________________________\n",
      "dense_2 (Dense)              (None, 100)               924900    \n",
      "_________________________________________________________________\n",
      "dense_3 (Dense)              (None, 1)                 101       \n",
      "=================================================================\n",
      "Total params: 944,393\n",
      "Trainable params: 944,393\n",
      "Non-trainable params: 0\n",
      "_________________________________________________________________\n"
     ]
    }
   ],
   "source": [
    "model=Sequential()\n",
    "model.add(Conv2D(32,(3,3),activation='relu',input_shape=(150,150,3)))\n",
    "model.add(MaxPooling2D() )\n",
    "model.add(Conv2D(32,(3,3),activation='relu'))\n",
    "model.add(MaxPooling2D() )\n",
    "model.add(Conv2D(32,(3,3),activation='relu'))\n",
    "model.add(MaxPooling2D() )\n",
    "model.add(Flatten())\n",
    "model.add(Dense(100,activation='relu'))\n",
    "model.add(Dense(1,activation='sigmoid'))\n",
    "model.summary()\n",
    "\n",
    "model.compile(optimizer='adam',loss='binary_crossentropy',metrics=['accuracy'])"
   ]
  },
  {
   "cell_type": "code",
   "execution_count": 22,
   "metadata": {},
   "outputs": [
    {
     "name": "stdout",
     "output_type": "stream",
     "text": [
      "Epoch 1/20\n",
      "127/378 [=========>....................] - ETA: 2:40 - loss: 0.5857 - accuracy: 0.6754"
     ]
    },
    {
     "name": "stderr",
     "output_type": "stream",
     "text": [
      "C:\\Users\\Master\\anaconda3\\lib\\site-packages\\PIL\\Image.py:951: UserWarning: Palette images with Transparency expressed in bytes should be converted to RGBA images\n",
      "  warnings.warn(\n"
     ]
    },
    {
     "name": "stdout",
     "output_type": "stream",
     "text": [
      "378/378 [==============================] - 291s 647ms/step - loss: 0.4554 - accuracy: 0.7769\n",
      "Epoch 2/20\n",
      "378/378 [==============================] - 134s 355ms/step - loss: 0.2763 - accuracy: 0.8904\n",
      "Epoch 3/20\n",
      "378/378 [==============================] - 123s 325ms/step - loss: 0.2084 - accuracy: 0.9181\n",
      "Epoch 4/20\n",
      "378/378 [==============================] - 126s 334ms/step - loss: 0.1904 - accuracy: 0.9296\n",
      "Epoch 5/20\n",
      "378/378 [==============================] - 127s 336ms/step - loss: 0.1670 - accuracy: 0.9391\n",
      "Epoch 6/20\n",
      "378/378 [==============================] - 128s 339ms/step - loss: 0.1446 - accuracy: 0.9485\n",
      "Epoch 7/20\n",
      "378/378 [==============================] - 133s 351ms/step - loss: 0.1168 - accuracy: 0.9598\n",
      "Epoch 8/20\n",
      "378/378 [==============================] - 129s 341ms/step - loss: 0.1090 - accuracy: 0.9617\n",
      "Epoch 9/20\n",
      "378/378 [==============================] - 127s 335ms/step - loss: 0.0959 - accuracy: 0.9653\n",
      "Epoch 10/20\n",
      "378/378 [==============================] - 127s 335ms/step - loss: 0.1062 - accuracy: 0.9615\n",
      "Epoch 11/20\n",
      "378/378 [==============================] - 127s 336ms/step - loss: 0.0861 - accuracy: 0.9693\n",
      "Epoch 12/20\n",
      "378/378 [==============================] - 127s 336ms/step - loss: 0.0876 - accuracy: 0.9715\n",
      "Epoch 13/20\n",
      "378/378 [==============================] - 127s 335ms/step - loss: 0.0750 - accuracy: 0.9759\n",
      "Epoch 14/20\n",
      "378/378 [==============================] - 127s 336ms/step - loss: 0.0669 - accuracy: 0.9776\n",
      "Epoch 15/20\n",
      "378/378 [==============================] - 128s 338ms/step - loss: 0.0587 - accuracy: 0.9811\n",
      "Epoch 16/20\n",
      "378/378 [==============================] - 127s 336ms/step - loss: 0.0561 - accuracy: 0.9798\n",
      "Epoch 17/20\n",
      "378/378 [==============================] - 129s 341ms/step - loss: 0.0559 - accuracy: 0.9791\n",
      "Epoch 18/20\n",
      "378/378 [==============================] - 125s 331ms/step - loss: 0.0513 - accuracy: 0.9828\n",
      "Epoch 19/20\n",
      "378/378 [==============================] - 128s 337ms/step - loss: 0.0435 - accuracy: 0.9853\n",
      "Epoch 20/20\n",
      "378/378 [==============================] - 127s 336ms/step - loss: 0.0521 - accuracy: 0.9828\n"
     ]
    }
   ],
   "source": [
    "history = model.fit(train_,\n",
    "                    epochs = 20)"
   ]
  },
  {
   "cell_type": "markdown",
   "metadata": {},
   "source": [
    "#### Save the model for further process to not train again just load the the trained model"
   ]
  },
  {
   "cell_type": "code",
   "execution_count": 23,
   "metadata": {},
   "outputs": [],
   "source": [
    "model.save('face_mask_model.h5',model)"
   ]
  },
  {
   "cell_type": "code",
   "execution_count": 25,
   "metadata": {},
   "outputs": [
    {
     "name": "stdout",
     "output_type": "stream",
     "text": [
      "95/95 [==============================] - 33s 347ms/step - loss: 0.1136 - accuracy: 0.9682\n"
     ]
    },
    {
     "data": {
      "text/plain": [
       "[0.11356310546398163, 0.9682329297065735]"
      ]
     },
     "execution_count": 25,
     "metadata": {},
     "output_type": "execute_result"
    }
   ],
   "source": [
    "model.evaluate(test_)"
   ]
  },
  {
   "cell_type": "markdown",
   "metadata": {},
   "source": [
    "#### Example of CNN  Classification "
   ]
  },
  {
   "cell_type": "code",
   "execution_count": 28,
   "metadata": {},
   "outputs": [],
   "source": [
    "import matplotlib.pyplot as plt"
   ]
  },
  {
   "cell_type": "code",
   "execution_count": 33,
   "metadata": {},
   "outputs": [
    {
     "data": {
      "text/plain": [
       "4705          face-mask/data\\with_mask\\with_mask_1789.jpg\n",
       "2964    face-mask/data\\without_mask\\without_mask_3667.jpg\n",
       "3920          face-mask/data\\with_mask\\with_mask_1081.jpg\n",
       "7004           face-mask/data\\with_mask\\with_mask_504.jpg\n",
       "1033    face-mask/data\\without_mask\\without_mask_1929.jpg\n",
       "                              ...                        \n",
       "3592     face-mask/data\\without_mask\\without_mask_787.jpg\n",
       "4491          face-mask/data\\with_mask\\with_mask_1596.jpg\n",
       "4960          face-mask/data\\with_mask\\with_mask_2017.jpg\n",
       "2763    face-mask/data\\without_mask\\without_mask_3486.jpg\n",
       "5263          face-mask/data\\with_mask\\with_mask_2290.jpg\n",
       "Name: data, Length: 1511, dtype: object"
      ]
     },
     "execution_count": 33,
     "metadata": {},
     "output_type": "execute_result"
    }
   ],
   "source": [
    "test['data']"
   ]
  },
  {
   "cell_type": "code",
   "execution_count": 50,
   "metadata": {},
   "outputs": [
    {
     "data": {
      "image/png": "[encoded data removed]",
      "text/plain": [
       "<Figure size 432x288 with 1 Axes>"
      ]
     },
     "metadata": {
      "needs_background": "light"
     },
     "output_type": "display_data"
    }
   ],
   "source": [
    "im = plt.imread('face-mask/data\\without_mask\\without_mask_1929.jpg')\n",
    "# show the image\n",
    "plt.imshow(im)\n",
    "plt.show()"
   ]
  },
  {
   "cell_type": "code",
   "execution_count": 43,
   "metadata": {},
   "outputs": [],
   "source": [
    "from keras.preprocessing import image\n",
    "import cv2"
   ]
  },
  {
   "cell_type": "code",
   "execution_count": 51,
   "metadata": {},
   "outputs": [
    {
     "data": {
      "text/plain": [
       "0.0"
      ]
     },
     "execution_count": 51,
     "metadata": {},
     "output_type": "execute_result"
    }
   ],
   "source": [
    "im=cv2.imread('face-mask/data\\without_mask\\without_mask_1929.jpg')\n",
    "target_size=(150,150)\n",
    "test_image=cv2.resize(im,target_size)\n",
    "test_image=np.expand_dims(test_image,axis=0)\n",
    "model.predict(test_image)[0][0]"
   ]
  },
  {
   "cell_type": "markdown",
   "metadata": {},
   "source": [
    "### Second Pipeline Face Detection Using Viola Jones Classifer "
   ]
  },
  {
   "cell_type": "markdown",
   "metadata": {},
   "source": [
    "#### The entire pipeline \n",
    "pre - processing \n",
    "load the trained CNN model for mask detection \n",
    "load the trained 50 Viola Jones Classifer for face detection \n",
    "\n",
    "1. read frame from video \n",
    "2. segment the frame into blocks of 19*19 with saving its position in the frame \n",
    "3. classify each block in it is Face or not using 50 Viola Jones classifer \n",
    "4. if it classified as face recall its positions \n",
    "5. if there are blocks classified as face get its window using the saved positions of face\n",
    "6. take these windows to be (150,150,3) size and to be the input the CNN model to determine it is mask or not\n",
    "7. then draw a rectingular green on that window if it is mask detected \n",
    "8. draw a rectingular red on that window if it is not mask detected  \n",
    "9. don not draw any thing of there are no face detected  \n"
   ]
  },
  {
   "cell_type": "markdown",
   "metadata": {},
   "source": [
    "######  Read the trained Viola Jones 50 classifer "
   ]
  },
  {
   "cell_type": "code",
   "execution_count": 1,
   "metadata": {},
   "outputs": [],
   "source": [
    "import pickle\n",
    "def load(filename):\n",
    "    \"\"\"\n",
    "    A static method which loads the classifier from a pickle\n",
    "    Args:\n",
    "            filename: The name of the file (no file extension necessary)\n",
    "    \"\"\"\n",
    "    with open(filename+\".pkl\", 'rb') as f:\n",
    "        return pickle.load(f)\n",
    "    \n",
    "with open(\"test.pkl\", 'rb') as f:\n",
    "    test = pickle.load(f)\n",
    "clf = load('50')"
   ]
  },
  {
   "cell_type": "code",
   "execution_count": 2,
   "metadata": {},
   "outputs": [
    {
     "name": "stdout",
     "output_type": "stream",
     "text": [
      "number of the window for each frame  825\n",
      "[]\n",
      "number of the window for each frame  825\n",
      "[]\n",
      "number of the window for each frame  825\n",
      "[]\n",
      "number of the window for each frame  825\n",
      "[]\n",
      "number of the window for each frame  825\n",
      "[]\n"
     ]
    }
   ],
   "source": [
    "from keras.models import load_model\n",
    "from keras.preprocessing import image\n",
    "import cv2\n",
    "import datetime\n",
    "import numpy as np\n",
    "import random\n",
    "\n",
    "mymodel=load_model('face_mask_model.h5')\n",
    "windowsize_r=19\n",
    "windowsize_c=19\n",
    "\n",
    "cap=cv2.VideoCapture(0)\n",
    "cap.set(cv2.CAP_PROP_FPS, 60)\n",
    "#face_cascade=cv2.CascadeClassifier('haarcascade_frontalface_default.xml')\n",
    "dim=(19,19)\n",
    "while cap.isOpened():\n",
    "    _,img=cap.read()\n",
    "    #print(img.shape)\n",
    "    windows=[]\n",
    "    positions=[]\n",
    "    for r in range(0,img.shape[0] - windowsize_r, windowsize_r):\n",
    "        for c in range(0,img.shape[1] - windowsize_c, windowsize_c):\n",
    "            window=img[r:r+windowsize_r,c:c+windowsize_c]\n",
    "            window=cv2.cvtColor(window, cv2.COLOR_BGR2GRAY)\n",
    "            #window.shape\n",
    "            #print(window.shape)\n",
    "            windows.append(window)\n",
    "            positions.append([r,c])\n",
    "    #fir = cv2.resize(fir, dim)\n",
    "    #print(fir.shape)\n",
    "    #print(positions[10][0],positions[10][1])\n",
    "    print(\"number of the window for each frame \",len(windows))\n",
    "    i=0\n",
    "    #pos_x=int(img.shape[0])/2\n",
    "    #pos_y=int(img.shape[1])/2\n",
    "    pos_x_pos_y=[]\n",
    "    face_detected=False\n",
    "    counter=0\n",
    "    for x in windows:\n",
    "        prediction = clf.classify(x)\n",
    "        if prediction ==1:\n",
    "            counter=+1\n",
    "            if counter >=1:       ###                   BIG NOTE       lOOK BELOW            #######\n",
    "                face_detected=True\n",
    "                pos_x_pos_y.append((positions[i][0],positions[i][1]))\n",
    "                print(\"Face detecetd at \",positions[i][0],positions[i][1])\n",
    "        else:\n",
    "            counter=0\n",
    "        i=+1\n",
    "    #face=face_cascade.detectMultiScale(img,scaleFactor=1.1,minNeighbors=4)\n",
    "    #x,y=pos_x,pos_y\n",
    "    print(pos_x_pos_y)\n",
    "    w,h=400,400\n",
    "    if face_detected==True:\n",
    "        for x,y in pos_x_pos_y:\n",
    "            face_img = img[y:y+h, x:x+w]\n",
    "            cv2.imwrite('temp.jpg',face_img)\n",
    "            test_image=image.load_img('temp.jpg',target_size=(150,150,3))\n",
    "            test_image=image.img_to_array(test_image)\n",
    "            test_image=np.expand_dims(test_image,axis=0)\n",
    "            pred=mymodel.predict(test_image)[0][0]\n",
    "            if pred==1:\n",
    "                cv2.rectangle(img,(x,y),(x+w,y+h),(0,0,255),3)\n",
    "                cv2.putText(img,'NO MASK',((x+w)//2,y+h+20),cv2.FONT_HERSHEY_SIMPLEX,1,(0,0,255),3)\n",
    "            else:\n",
    "                cv2.rectangle(img,(x,y),(x+w,y+h),(0,255,0),3)\n",
    "                cv2.putText(img,'MASK',((x+w)//2,y+h+20),cv2.FONT_HERSHEY_SIMPLEX,1,(0,255,0),3)\n",
    "            datet=str(datetime.datetime.now())\n",
    "            cv2.putText(img,datet,(400,450),cv2.FONT_HERSHEY_SIMPLEX,0.5,(255,255,255),1)\n",
    "          \n",
    "    cv2.imshow('img',img)\n",
    "    \n",
    "    if cv2.waitKey(1)==ord('q'):\n",
    "        break\n",
    "    \n",
    "cap.release()\n",
    "cv2.destroyAllWindows()"
   ]
  },
  {
   "cell_type": "markdown",
   "metadata": {},
   "source": [
    "## BIG NOTE "
   ]
  },
  {
   "cell_type": "markdown",
   "metadata": {},
   "source": [
    "###### I made the counter varible for detection stability to make the model detect face if more than specific number(counter) of frame consecutive are classified as face , this to make the model stable BUT\n",
    "######  when the counter threshold are above 1 the model fails to detect any faces in the frame , it only detect face in the frame if this threshold is set to 1 \n",
    "###### THIS MEANS  consecutive_true_classified varible that we were asked to make it from the TA  Ahmed El Sayed will always zero because the counter threshlod is 1 to detect any face in the frame "
   ]
  },
  {
   "cell_type": "markdown",
   "metadata": {},
   "source": [
    "#### To Compare the performance of our model  with the open CV model Cascade Classider \n",
    "- we will use a built in function in open cv for face detection \n",
    "- then it will be the input to out CNN model to clssify it \n",
    "- the same design parametrs for input of the CNN model as previous \n",
    "\n",
    "#### Note that Our model do not use any cascade classifer unlike opencv "
   ]
  },
  {
   "cell_type": "code",
   "execution_count": 3,
   "metadata": {},
   "outputs": [],
   "source": [
    "cap=cv2.VideoCapture(0)\n",
    "face_cascade=cv2.CascadeClassifier('haarcascade_frontalface_default.xml')\n",
    "\n",
    "while cap.isOpened():\n",
    "    _,img=cap.read()\n",
    "    face=face_cascade.detectMultiScale(img,scaleFactor=1.1,minNeighbors=4)\n",
    "    for(x,y,w,h) in face:\n",
    "        face_img = img[y:y+h, x:x+w]\n",
    "        cv2.imwrite('temp.jpg',face_img)\n",
    "        test_image=image.load_img('temp.jpg',target_size=(150,150,3))\n",
    "        test_image=image.img_to_array(test_image)\n",
    "        test_image=np.expand_dims(test_image,axis=0)\n",
    "        pred=mymodel.predict(test_image)[0][0]\n",
    "        if pred==1:\n",
    "            cv2.rectangle(img,(x,y),(x+w,y+h),(0,0,255),3)\n",
    "            cv2.putText(img,'NO MASK',((x+w)//2,y+h+20),cv2.FONT_HERSHEY_SIMPLEX,1,(0,0,255),3)\n",
    "        else:\n",
    "            cv2.rectangle(img,(x,y),(x+w,y+h),(0,255,0),3)\n",
    "            cv2.putText(img,'MASK',((x+w)//2,y+h+20),cv2.FONT_HERSHEY_SIMPLEX,1,(0,255,0),3)\n",
    "        datet=str(datetime.datetime.now())\n",
    "        cv2.putText(img,datet,(400,450),cv2.FONT_HERSHEY_SIMPLEX,0.5,(255,255,255),1)\n",
    "          \n",
    "    cv2.imshow('img',img)\n",
    "    \n",
    "    if cv2.waitKey(1)==ord('q'):\n",
    "        break\n",
    "    \n",
    "cap.release()\n",
    "cv2.destroyAllWindows()"
   ]
  },
  {
   "cell_type": "markdown",
   "metadata": {},
   "source": [
    "#### To Measure the performance of our model"
   ]
  },
  {
   "cell_type": "markdown",
   "metadata": {},
   "source": [
    "1. Read a video of me (ahmed el melegy)\n",
    "2. this video its frames are labeld by me by hand   , and these are the labels frames parameters\n",
    "- some statistics \n",
    "- Video length is 23 second each second contain 30 frame\n",
    "- it ws recorded on my PC with resolution 480 * 640 with 30 frame per second\n",
    "- then reading the video using open cv with with only 8 frame per second  \n",
    "- so 8 frame/sec * 23 sec = 184 frames in total   \n",
    "- first 48 frames are labeld with Mask 1\n",
    "- next 48(48 to 96) frames are labeld with  No Mask 0\n",
    "- from (96 to 144) frmaes are labeled with  Mask 1\n",
    "- from (144 to 184) frames are labeled with  No Mask 0 \n",
    "- each frame was resized to be (19 * 19) to be the input to the 50 Viola Jones classifer , in gray\n",
    "- (19*19) because this the dimension  that our model is trained and  i found it was the best dimention to get high accuracy \n"
   ]
  },
  {
   "cell_type": "code",
   "execution_count": 4,
   "metadata": {},
   "outputs": [
    {
     "name": "stdout",
     "output_type": "stream",
     "text": [
      "the length of the video in seconds  23\n",
      "frame per second is  8\n",
      "total number of frames is  184.0\n"
     ]
    },
    {
     "ename": "error",
     "evalue": "OpenCV(4.5.1) C:\\Users\\appveyor\\AppData\\Local\\Temp\\1\\pip-req-build-kh7iq4w7\\opencv\\modules\\imgproc\\src\\resize.cpp:4051: error: (-215:Assertion failed) !ssize.empty() in function 'cv::resize'\n",
     "output_type": "error",
     "traceback": [
      "\u001b[1;31m---------------------------------------------------------------------------\u001b[0m",
      "\u001b[1;31merror\u001b[0m                                     Traceback (most recent call last)",
      "\u001b[1;32m<ipython-input-4-2e317f1c6969>\u001b[0m in \u001b[0;36m<module>\u001b[1;34m\u001b[0m\n\u001b[0;32m     21\u001b[0m     \u001b[0mret\u001b[0m\u001b[1;33m,\u001b[0m \u001b[0mframe\u001b[0m \u001b[1;33m=\u001b[0m \u001b[0mcapture\u001b[0m\u001b[1;33m.\u001b[0m\u001b[0mread\u001b[0m\u001b[1;33m(\u001b[0m\u001b[1;33m)\u001b[0m\u001b[1;33m\u001b[0m\u001b[1;33m\u001b[0m\u001b[0m\n\u001b[0;32m     22\u001b[0m     \u001b[1;31m# show the frame on the screen\u001b[0m\u001b[1;33m\u001b[0m\u001b[1;33m\u001b[0m\u001b[1;33m\u001b[0m\u001b[0m\n\u001b[1;32m---> 23\u001b[1;33m     \u001b[0mframe\u001b[0m\u001b[1;33m=\u001b[0m\u001b[0mcv2\u001b[0m\u001b[1;33m.\u001b[0m\u001b[0mresize\u001b[0m\u001b[1;33m(\u001b[0m\u001b[0mframe\u001b[0m\u001b[1;33m,\u001b[0m\u001b[0mtarget_size\u001b[0m\u001b[1;33m)\u001b[0m\u001b[1;33m\u001b[0m\u001b[1;33m\u001b[0m\u001b[0m\n\u001b[0m\u001b[0;32m     24\u001b[0m     \u001b[0mframe\u001b[0m\u001b[1;33m=\u001b[0m\u001b[0mcv2\u001b[0m\u001b[1;33m.\u001b[0m\u001b[0mcvtColor\u001b[0m\u001b[1;33m(\u001b[0m\u001b[0mframe\u001b[0m\u001b[1;33m,\u001b[0m \u001b[0mcv2\u001b[0m\u001b[1;33m.\u001b[0m\u001b[0mCOLOR_BGR2GRAY\u001b[0m\u001b[1;33m)\u001b[0m\u001b[1;33m\u001b[0m\u001b[1;33m\u001b[0m\u001b[0m\n\u001b[0;32m     25\u001b[0m     \u001b[1;31m#print(count)\u001b[0m\u001b[1;33m\u001b[0m\u001b[1;33m\u001b[0m\u001b[1;33m\u001b[0m\u001b[0m\n",
      "\u001b[1;31merror\u001b[0m: OpenCV(4.5.1) C:\\Users\\appveyor\\AppData\\Local\\Temp\\1\\pip-req-build-kh7iq4w7\\opencv\\modules\\imgproc\\src\\resize.cpp:4051: error: (-215:Assertion failed) !ssize.empty() in function 'cv::resize'\n"
     ]
    }
   ],
   "source": [
    "count=0\n",
    "capture = cv2.VideoCapture(\"WIN_20210704_15_58_52_Pro.mp4\")\n",
    "framespersecond= int(capture.get(cv2.CAP_PROP_FPS))\n",
    "frames = capture.get(cv2.CAP_PROP_FRAME_COUNT)\n",
    "seconds = int(frames / framespersecond)\n",
    "print(\"the length of the video in seconds \",seconds)\n",
    "print(\"frame per second is \",framespersecond)\n",
    "print(\"total number of frames is \", frames)\n",
    "'''\n",
    "some statistics \n",
    "first 48 frames are labeld with Mask 1\n",
    "next 48(48 to 96) frames are labeld with  No Mask 0\n",
    "from (96 to 144) frmaes are labeled with  Mask 1\n",
    "from (144 to 184) frames are labeled with  No Mask 0 \n",
    "\n",
    "'''\n",
    "frames=[]\n",
    "target_size=(19,19)\n",
    "while True:\n",
    "    # capture frame-by-frame from video file\n",
    "    ret, frame = capture.read() \n",
    "    # show the frame on the screen\n",
    "    frame=cv2.resize(frame,target_size)\n",
    "    frame=cv2.cvtColor(frame, cv2.COLOR_BGR2GRAY)\n",
    "    #print(count)\n",
    "    if len(frames) <= 48 or (count>= 96 and count <=144)  :\n",
    "        frames.append((frame,1))\n",
    "    else:\n",
    "        frames.append((frame,0))\n",
    "    #count=+1\n",
    "    cv2.imshow(\"frame\", frame)\n",
    "    \n",
    "    if cv2.waitKey(27) & 0xFF == ord('q'):\n",
    "        break\n",
    "# When everything done, release the capture\n",
    "capture.release()\n",
    "cv2.destroyAllWindows()"
   ]
  },
  {
   "cell_type": "markdown",
   "metadata": {},
   "source": [
    "This above error is because the video has ended but the cap is still reading so it reads None with empty shape or size \n",
    "\n",
    "- Now we have the 184 labeld frames \n",
    "- Next step is to evaluate our model performance on these frames"
   ]
  },
  {
   "cell_type": "markdown",
   "metadata": {},
   "source": [
    "###### save these labeld frames as pickle file to be used in the evaluate function"
   ]
  },
  {
   "cell_type": "code",
   "execution_count": 5,
   "metadata": {},
   "outputs": [],
   "source": [
    "def save(arr,filename):\n",
    "    with open(filename+\".pkl\", 'wb') as f:\n",
    "         pickle.dump(arr,f)\n",
    "\n",
    "save(frames,'mine')"
   ]
  },
  {
   "cell_type": "markdown",
   "metadata": {},
   "source": [
    "## Confusion Matrix ,Accuracy ,Time taken for classification"
   ]
  },
  {
   "cell_type": "code",
   "execution_count": 7,
   "metadata": {},
   "outputs": [
    {
     "name": "stdout",
     "output_type": "stream",
     "text": [
      "False Positive Rate: 0/135 (0.000000)\n",
      "False Negative Rate: 49/49 (1.000000)\n",
      "Accuracy: 119/184 (0.646739)\n",
      "Average Classification Time: 0.054758\n"
     ]
    }
   ],
   "source": [
    "import pickle\n",
    "import numpy as np\n",
    "import math\n",
    "import time\n",
    "def load(filename):\n",
    "    \"\"\"\n",
    "    A static method which loads the classifier from a pickle\n",
    "    Args:\n",
    "            filename: The name of the file (no file extension necessary)\n",
    "    \"\"\"\n",
    "    with open(filename+\".pkl\", 'rb') as f:\n",
    "        return pickle.load(f)\n",
    "    \n",
    "with open(\"mine.pkl\", 'rb') as f:\n",
    "    test = pickle.load(f)\n",
    "clf = load('50') \n",
    "\n",
    "def load(filename):\n",
    "    \"\"\"\n",
    "    A static method which loads the classifier from a pickle\n",
    "    Args:\n",
    "            filename: The name of the file (no file extension necessary)\n",
    "    \"\"\"\n",
    "    with open(filename+\".pkl\", 'rb') as f:\n",
    "        return pickle.load(f)\n",
    "        \n",
    "def evaluate(clf, data):\n",
    "    correct = 0\n",
    "    all_negatives, all_positives = 0, 0\n",
    "    true_negatives, false_negatives = 0, 0\n",
    "    true_positives, false_positives = 0, 0\n",
    "    classification_time = 0\n",
    "\n",
    "    for x, y in data:\n",
    "        if y == 1:\n",
    "            all_positives += 1\n",
    "        else:\n",
    "            all_negatives += 1\n",
    "\n",
    "        start = time.time()\n",
    "        cv2.imwrite('temp.jpg',x)\n",
    "        test_image=image.load_img('temp.jpg',target_size=(150,150,3))\n",
    "        test_image=image.img_to_array(test_image)\n",
    "        test_image=np.expand_dims(test_image,axis=0)\n",
    "        pred=mymodel.predict(test_image)[0][0]\n",
    "        prediction = clf.classify(x)\n",
    "        classification_time += time.time() - start\n",
    "        if (prediction == 1 and pred == 1)  and y == 0:\n",
    "            false_positives += 1\n",
    "        if (prediction == 0 and pred==0 ) and y == 1:\n",
    "            false_negatives += 1\n",
    "        \n",
    "        correct += 1 if (prediction == y and pred==y)  else 0\n",
    "    \n",
    "    print(\"False Positive Rate: %d/%d (%f)\" % (false_positives, all_negatives, false_positives/all_negatives))\n",
    "    print(\"False Negative Rate: %d/%d (%f)\" % (false_negatives, all_positives, false_negatives/all_positives))\n",
    "    print(\"Accuracy: %d/%d (%f)\" % (correct, len(data), correct/len(data)))\n",
    "    print(\"Average Classification Time: %f\" % (classification_time / len(data)))\n",
    "    \n",
    "    \n",
    "    \n",
    "with open(\"mine.pkl\", 'rb') as f:\n",
    "    test = pickle.load(f)\n",
    "clf = load('50')\n",
    "evaluate(clf, test)"
   ]
  },
  {
   "cell_type": "code",
   "execution_count": null,
   "metadata": {},
   "outputs": [],
   "source": []
  }
 ],
 "metadata": {
  "kernelspec": {
   "display_name": "Python 3",
   "language": "python",
   "name": "python3"
  },
  "language_info": {
   "codemirror_mode": {
    "name": "ipython",
    "version": 3
   },
   "file_extension": ".py",
   "mimetype": "text/x-python",
   "name": "python",
   "nbconvert_exporter": "python",
   "pygments_lexer": "ipython3",
   "version": "3.8.5"
  }
 },
 "nbformat": 4,
 "nbformat_minor": 4
}
